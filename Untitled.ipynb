{
  "nbformat": 4,
  "nbformat_minor": 0,
  "metadata": {
    "colab": {
      "name": "Untitled",
      "provenance": [],
      "authorship_tag": "ABX9TyPiHQMOOgaUHz2dKAklL/+p",
      "include_colab_link": true
    },
    "kernelspec": {
      "name": "python3",
      "display_name": "Python 3"
    }
  },
  "cells": [
    {
      "cell_type": "markdown",
      "metadata": {
        "id": "view-in-github",
        "colab_type": "text"
      },
      "source": [
        "<a href=\"https://colab.research.google.com/github/annapiotrowska404/Repozytorium-zdalne-1/blob/main/Untitled.ipynb\" target=\"_parent\"><img src=\"https://colab.research.google.com/assets/colab-badge.svg\" alt=\"Open In Colab\"/></a>"
      ]
    },
    {
      "cell_type": "code",
      "metadata": {
        "colab": {
          "base_uri": "https://localhost:8080/"
        },
        "id": "RgZN5bIfQ8jE",
        "outputId": "bbed0da0-5bc7-4346-8b9f-3eb91f7f3234"
      },
      "source": [
        "import numpy as np\r\n",
        "\r\n",
        "def pure_python(n: int):\r\n",
        "  x = range(n)\r\n",
        "  y = range(n)\r\n",
        "  z = [x[i] + y[i] for i in range(n)]\r\n",
        "\r\n",
        "def pure_python_2(n: int):\r\n",
        "  x = range(n)\r\n",
        "  y = range(n)\r\n",
        "  z = [i + j for i, j in zip(x,y)]\r\n",
        "\r\n",
        "def pure_numpy(n: int):\r\n",
        "  x = np.arange(n)\r\n",
        "  y = np.arange(n)\r\n",
        "  z = x+y\r\n",
        "\r\n",
        "%timeit pure_python(100)\r\n",
        "%timeit pure_python_2(100)\r\n",
        "%timeit pure_numpy(100)\r\n",
        "\r\n",
        "\r\n"
      ],
      "execution_count": 3,
      "outputs": [
        {
          "output_type": "stream",
          "text": [
            "10000 loops, best of 3: 23.3 µs per loop\n",
            "100000 loops, best of 3: 7.14 µs per loop\n",
            "The slowest run took 2317.35 times longer than the fastest. This could mean that an intermediate result is being cached.\n",
            "100000 loops, best of 3: 2.97 µs per loop\n"
          ],
          "name": "stdout"
        }
      ]
    },
    {
      "cell_type": "code",
      "metadata": {
        "id": "ppbxZL9AdJ5W"
      },
      "source": [
        ""
      ],
      "execution_count": null,
      "outputs": []
    },
    {
      "cell_type": "code",
      "metadata": {
        "colab": {
          "base_uri": "https://localhost:8080/"
        },
        "id": "ph_PL4a9X7gg",
        "outputId": "a97343e3-2b20-46c8-bdbe-b1d62cc4c705"
      },
      "source": [
        "a = np.arange(15).reshape(3, 5)\r\n",
        "print(a)\r\n",
        "print(a.shape)\r\n",
        "print(a.dtype)\r\n",
        "print(a.itemsize)\r\n",
        "print(a.size)\r\n",
        "print(type(a))\r\n",
        "\r\n",
        "\r\n"
      ],
      "execution_count": 10,
      "outputs": [
        {
          "output_type": "stream",
          "text": [
            "[[ 0  1  2  3  4]\n",
            " [ 5  6  7  8  9]\n",
            " [10 11 12 13 14]]\n",
            "(3, 5)\n",
            "int64\n",
            "8\n",
            "15\n",
            "<class 'numpy.ndarray'>\n"
          ],
          "name": "stdout"
        }
      ]
    },
    {
      "cell_type": "code",
      "metadata": {
        "colab": {
          "base_uri": "https://localhost:8080/"
        },
        "id": "fD9eFz6WbOo8",
        "outputId": "9f9a271f-fa98-4f61-afbf-eec1fc8c85aa"
      },
      "source": [
        "a = np.array([(1, 2), (3, 4)])\r\n",
        "print(a)\r\n",
        "print(type(a))\r\n",
        "print(a.dtype)\r\n",
        "b = np.array([(1.0, 2.0), (3.0, 4.0)])\r\n",
        "print(b.dtype)\r\n",
        "c = np.array([(1,2,3), (1,2,3)], dtype=np.int32)\r\n",
        "print(c)\r\n",
        "print(c.dtype)"
      ],
      "execution_count": 18,
      "outputs": [
        {
          "output_type": "stream",
          "text": [
            "[[1 2]\n",
            " [3 4]]\n",
            "<class 'numpy.ndarray'>\n",
            "int64\n",
            "float64\n",
            "[[1 2 3]\n",
            " [1 2 3]]\n",
            "int32\n"
          ],
          "name": "stdout"
        }
      ]
    },
    {
      "cell_type": "code",
      "metadata": {
        "colab": {
          "base_uri": "https://localhost:8080/"
        },
        "id": "rQrS7kO-dLeX",
        "outputId": "8fc4ae74-6615-4342-d89f-52405738ebef"
      },
      "source": [
        "print(np.zeros(shape=(3,4), dtype=int))\r\n",
        "print(np.ones(shape=(2,3,3)))\r\n",
        "print(np.empty(shape=(2,3)))\r\n",
        "print(np.full(shape=(2,3), fill_value=9))"
      ],
      "execution_count": 22,
      "outputs": [
        {
          "output_type": "stream",
          "text": [
            "[[0 0 0 0]\n",
            " [0 0 0 0]\n",
            " [0 0 0 0]]\n",
            "[[[1. 1. 1.]\n",
            "  [1. 1. 1.]\n",
            "  [1. 1. 1.]]\n",
            "\n",
            " [[1. 1. 1.]\n",
            "  [1. 1. 1.]\n",
            "  [1. 1. 1.]]]\n",
            "[[4.9e-324 9.9e-324 1.5e-323]\n",
            " [4.9e-324 9.9e-324 1.5e-323]]\n",
            "[[9 9 9]\n",
            " [9 9 9]]\n"
          ],
          "name": "stdout"
        }
      ]
    },
    {
      "cell_type": "code",
      "metadata": {
        "colab": {
          "base_uri": "https://localhost:8080/"
        },
        "id": "TxjbWezFe0_v",
        "outputId": "ced1cd19-3c59-44e3-8925-78af97931d46"
      },
      "source": [
        "print(np.arange(10, 40, 5))\r\n",
        "print(np.arange(0, 2, 0.3))\r\n",
        "print(np.linspace(0,2,9))\r\n",
        "\r\n",
        "x = np.linspace(0, 2*np.pi, 100)\r\n",
        "f = np.sin(x)\r\n",
        "print(f)"
      ],
      "execution_count": 27,
      "outputs": [
        {
          "output_type": "stream",
          "text": [
            "[10 15 20 25 30 35]\n",
            "[0.  0.3 0.6 0.9 1.2 1.5 1.8]\n",
            "[0.   0.25 0.5  0.75 1.   1.25 1.5  1.75 2.  ]\n",
            "[ 0.00000000e+00  6.34239197e-02  1.26592454e-01  1.89251244e-01\n",
            "  2.51147987e-01  3.12033446e-01  3.71662456e-01  4.29794912e-01\n",
            "  4.86196736e-01  5.40640817e-01  5.92907929e-01  6.42787610e-01\n",
            "  6.90079011e-01  7.34591709e-01  7.76146464e-01  8.14575952e-01\n",
            "  8.49725430e-01  8.81453363e-01  9.09631995e-01  9.34147860e-01\n",
            "  9.54902241e-01  9.71811568e-01  9.84807753e-01  9.93838464e-01\n",
            "  9.98867339e-01  9.99874128e-01  9.96854776e-01  9.89821442e-01\n",
            "  9.78802446e-01  9.63842159e-01  9.45000819e-01  9.22354294e-01\n",
            "  8.95993774e-01  8.66025404e-01  8.32569855e-01  7.95761841e-01\n",
            "  7.55749574e-01  7.12694171e-01  6.66769001e-01  6.18158986e-01\n",
            "  5.67059864e-01  5.13677392e-01  4.58226522e-01  4.00930535e-01\n",
            "  3.42020143e-01  2.81732557e-01  2.20310533e-01  1.58001396e-01\n",
            "  9.50560433e-02  3.17279335e-02 -3.17279335e-02 -9.50560433e-02\n",
            " -1.58001396e-01 -2.20310533e-01 -2.81732557e-01 -3.42020143e-01\n",
            " -4.00930535e-01 -4.58226522e-01 -5.13677392e-01 -5.67059864e-01\n",
            " -6.18158986e-01 -6.66769001e-01 -7.12694171e-01 -7.55749574e-01\n",
            " -7.95761841e-01 -8.32569855e-01 -8.66025404e-01 -8.95993774e-01\n",
            " -9.22354294e-01 -9.45000819e-01 -9.63842159e-01 -9.78802446e-01\n",
            " -9.89821442e-01 -9.96854776e-01 -9.99874128e-01 -9.98867339e-01\n",
            " -9.93838464e-01 -9.84807753e-01 -9.71811568e-01 -9.54902241e-01\n",
            " -9.34147860e-01 -9.09631995e-01 -8.81453363e-01 -8.49725430e-01\n",
            " -8.14575952e-01 -7.76146464e-01 -7.34591709e-01 -6.90079011e-01\n",
            " -6.42787610e-01 -5.92907929e-01 -5.40640817e-01 -4.86196736e-01\n",
            " -4.29794912e-01 -3.71662456e-01 -3.12033446e-01 -2.51147987e-01\n",
            " -1.89251244e-01 -1.26592454e-01 -6.34239197e-02 -2.44929360e-16]\n"
          ],
          "name": "stdout"
        }
      ]
    },
    {
      "cell_type": "code",
      "metadata": {
        "colab": {
          "base_uri": "https://localhost:8080/"
        },
        "id": "moM8-hTegzjN",
        "outputId": "b8188ec0-d4be-47ff-e422-120a2a1cb56a"
      },
      "source": [
        "a = np.arange(15).reshape(3, 5)\r\n",
        "print(a)\r\n",
        "\r\n",
        "print(a[2][1])\r\n",
        "print(a[2, 1])"
      ],
      "execution_count": 29,
      "outputs": [
        {
          "output_type": "stream",
          "text": [
            "[[ 0  1  2  3  4]\n",
            " [ 5  6  7  8  9]\n",
            " [10 11 12 13 14]]\n",
            "11\n",
            "11\n"
          ],
          "name": "stdout"
        }
      ]
    },
    {
      "cell_type": "code",
      "metadata": {
        "colab": {
          "base_uri": "https://localhost:8080/"
        },
        "id": "-tbE3WSkj9z4",
        "outputId": "d6edd086-71f6-47bb-ed8b-8f0fe075ec6b"
      },
      "source": [
        "x = np.arange(10, 40, 5)\r\n",
        "print(x)\r\n",
        "x = x[x<30]\r\n",
        "print(x)\r\n",
        "\r\n",
        "wzrost_pilkarzy = np.linspace(1.5, 2.0, 100)\r\n",
        "print(wzrost_pilkarzy)\r\n",
        "                      \r\n",
        "true_man = np.where(wzrost_pilkarzy>1.8)\r\n",
        "print(true_man)\r\n",
        "\r\n",
        "true_man_array = wzrost_pilkarzy[true_man]\r\n",
        "print(true_man_array)"
      ],
      "execution_count": 36,
      "outputs": [
        {
          "output_type": "stream",
          "text": [
            "[10 15 20 25 30 35]\n",
            "[10 15 20 25]\n",
            "[1.5        1.50505051 1.51010101 1.51515152 1.52020202 1.52525253\n",
            " 1.53030303 1.53535354 1.54040404 1.54545455 1.55050505 1.55555556\n",
            " 1.56060606 1.56565657 1.57070707 1.57575758 1.58080808 1.58585859\n",
            " 1.59090909 1.5959596  1.6010101  1.60606061 1.61111111 1.61616162\n",
            " 1.62121212 1.62626263 1.63131313 1.63636364 1.64141414 1.64646465\n",
            " 1.65151515 1.65656566 1.66161616 1.66666667 1.67171717 1.67676768\n",
            " 1.68181818 1.68686869 1.69191919 1.6969697  1.7020202  1.70707071\n",
            " 1.71212121 1.71717172 1.72222222 1.72727273 1.73232323 1.73737374\n",
            " 1.74242424 1.74747475 1.75252525 1.75757576 1.76262626 1.76767677\n",
            " 1.77272727 1.77777778 1.78282828 1.78787879 1.79292929 1.7979798\n",
            " 1.8030303  1.80808081 1.81313131 1.81818182 1.82323232 1.82828283\n",
            " 1.83333333 1.83838384 1.84343434 1.84848485 1.85353535 1.85858586\n",
            " 1.86363636 1.86868687 1.87373737 1.87878788 1.88383838 1.88888889\n",
            " 1.89393939 1.8989899  1.9040404  1.90909091 1.91414141 1.91919192\n",
            " 1.92424242 1.92929293 1.93434343 1.93939394 1.94444444 1.94949495\n",
            " 1.95454545 1.95959596 1.96464646 1.96969697 1.97474747 1.97979798\n",
            " 1.98484848 1.98989899 1.99494949 2.        ]\n",
            "(array([60, 61, 62, 63, 64, 65, 66, 67, 68, 69, 70, 71, 72, 73, 74, 75, 76,\n",
            "       77, 78, 79, 80, 81, 82, 83, 84, 85, 86, 87, 88, 89, 90, 91, 92, 93,\n",
            "       94, 95, 96, 97, 98, 99]),)\n",
            "[1.8030303  1.80808081 1.81313131 1.81818182 1.82323232 1.82828283\n",
            " 1.83333333 1.83838384 1.84343434 1.84848485 1.85353535 1.85858586\n",
            " 1.86363636 1.86868687 1.87373737 1.87878788 1.88383838 1.88888889\n",
            " 1.89393939 1.8989899  1.9040404  1.90909091 1.91414141 1.91919192\n",
            " 1.92424242 1.92929293 1.93434343 1.93939394 1.94444444 1.94949495\n",
            " 1.95454545 1.95959596 1.96464646 1.96969697 1.97474747 1.97979798\n",
            " 1.98484848 1.98989899 1.99494949 2.        ]\n"
          ],
          "name": "stdout"
        }
      ]
    },
    {
      "cell_type": "code",
      "metadata": {
        "colab": {
          "base_uri": "https://localhost:8080/"
        },
        "id": "fG7xWpRonAjt",
        "outputId": "71f715ea-1c60-4483-a6ad-89cc6c24b021"
      },
      "source": [
        "a = np.array([(1, 2, 3), (4, 5, 6)])\r\n",
        "b = np.array([(0, 2, 3), (4, 5, 8)])\r\n",
        "print(a)\r\n",
        "print(b)\r\n",
        "x = a+b\r\n",
        "print(x)"
      ],
      "execution_count": 42,
      "outputs": [
        {
          "output_type": "stream",
          "text": [
            "[[1 2 3]\n",
            " [4 5 6]]\n",
            "[[0 2 3]\n",
            " [4 5 8]]\n",
            "[[ 1  4  6]\n",
            " [ 8 10 14]]\n"
          ],
          "name": "stdout"
        }
      ]
    },
    {
      "cell_type": "code",
      "metadata": {
        "colab": {
          "base_uri": "https://localhost:8080/"
        },
        "id": "eRRxAg3Yroam",
        "outputId": "4fb51898-999b-47bf-eac2-d314c6f95c7d"
      },
      "source": [
        "a = np.linspace(1, 2, 9).reshape (3, 3)\r\n",
        "\r\n",
        "print(a)\r\n",
        "\r\n",
        "np.set_printoptions(precision=2)\r\n",
        "a = np.random.normal(size=9).reshape (3, 3)\r\n",
        "\r\n",
        "print(a)\r\n",
        "\r\n"
      ],
      "execution_count": 55,
      "outputs": [
        {
          "output_type": "stream",
          "text": [
            "[[1.    1.125 1.25 ]\n",
            " [1.375 1.5   1.625]\n",
            " [1.75  1.875 2.   ]]\n",
            "[[-0.59  0.76  0.55]\n",
            " [-0.41  0.05  1.38]\n",
            " [-1.15  0.13  0.2 ]]\n"
          ],
          "name": "stdout"
        }
      ]
    },
    {
      "cell_type": "code",
      "metadata": {
        "colab": {
          "base_uri": "https://localhost:8080/"
        },
        "id": "XbbcVuO6uOpu",
        "outputId": "255f5735-0fcd-4e7f-de75-f19bfc0bb76a"
      },
      "source": [
        "np.intersect1d\r\n",
        "a = np.array([(1, 2, 3), (4, 5, 6)])\r\n",
        "b = np.array([(0, 2, 3), (4, 5, 8)])\r\n",
        "\r\n",
        "print(np.intersect1d(a, b))"
      ],
      "execution_count": 57,
      "outputs": [
        {
          "output_type": "stream",
          "text": [
            "[2 3 4 5]\n"
          ],
          "name": "stdout"
        }
      ]
    },
    {
      "cell_type": "code",
      "metadata": {
        "colab": {
          "base_uri": "https://localhost:8080/"
        },
        "id": "_6vILwINxAva",
        "outputId": "3198a950-9620-4a0e-ac17-13101363b674"
      },
      "source": [
        "np.set_printoptions(precision=2)\r\n",
        "\r\n",
        "x = np.linspace(10, 40, 15).reshape(3,5)\r\n",
        "x = np.linspace(20, 50, 15).reshape(5,3)\r\n",
        "\r\n",
        "print(x)\r\n",
        "\r\n",
        "def window(array: np.ndarray):\r\n",
        "  for i in range(array.shape[0]-1):\r\n",
        "    for j in range(array.shape[1]-1):\r\n",
        "      print(i)\r\n",
        "      print(j)\r\n",
        "      print(array[j:j+2, i:i+2])\r\n",
        "\r\n",
        "window(x)"
      ],
      "execution_count": 66,
      "outputs": [
        {
          "output_type": "stream",
          "text": [
            "[[20.   22.14 24.29]\n",
            " [26.43 28.57 30.71]\n",
            " [32.86 35.   37.14]\n",
            " [39.29 41.43 43.57]\n",
            " [45.71 47.86 50.  ]]\n",
            "0\n",
            "0\n",
            "[[20.   22.14]\n",
            " [26.43 28.57]]\n",
            "0\n",
            "1\n",
            "[[26.43 28.57]\n",
            " [32.86 35.  ]]\n",
            "1\n",
            "0\n",
            "[[22.14 24.29]\n",
            " [28.57 30.71]]\n",
            "1\n",
            "1\n",
            "[[28.57 30.71]\n",
            " [35.   37.14]]\n",
            "2\n",
            "0\n",
            "[[24.29]\n",
            " [30.71]]\n",
            "2\n",
            "1\n",
            "[[30.71]\n",
            " [37.14]]\n",
            "3\n",
            "0\n",
            "[]\n",
            "3\n",
            "1\n",
            "[]\n"
          ],
          "name": "stdout"
        }
      ]
    },
    {
      "cell_type": "code",
      "metadata": {
        "colab": {
          "base_uri": "https://localhost:8080/"
        },
        "id": "XWeIqx5B0jsk",
        "outputId": "c2c917f9-8d07-4b53-e03d-649ba6a6e295"
      },
      "source": [
        "a = np.array([(1, 2, 3), (4, 5, 6)])\r\n",
        "b = np.array([(0, 2, 3), (4, 5, 8)])\r\n",
        "\r\n",
        "c = a+b\r\n",
        "print(c)"
      ],
      "execution_count": 70,
      "outputs": [
        {
          "output_type": "stream",
          "text": [
            "[[ 1  4  6]\n",
            " [ 8 10 14]]\n"
          ],
          "name": "stdout"
        }
      ]
    },
    {
      "cell_type": "code",
      "metadata": {
        "colab": {
          "base_uri": "https://localhost:8080/"
        },
        "id": "uuo8tlgP3IET",
        "outputId": "9424daad-0a76-47c0-afee-bda00bb02b02"
      },
      "source": [
        "a = np.array([(1, 2, 3), (4, 5)])\r\n",
        "b = np.array([(0, 2, 3), (4, 8])\r\n",
        "\r\n",
        "print(a)\r\n",
        "print(b)\r\n",
        "c = a*b\r\n",
        "print(c)"
      ],
      "execution_count": 72,
      "outputs": [
        {
          "output_type": "stream",
          "text": [
            "[[1 2 3]\n",
            " [4 5 6]]\n",
            "[[0 2 3]\n",
            " [4 5 8]]\n",
            "[[ 0  4  9]\n",
            " [16 25 48]]\n"
          ],
          "name": "stdout"
        }
      ]
    },
    {
      "cell_type": "code",
      "metadata": {
        "colab": {
          "base_uri": "https://localhost:8080/"
        },
        "id": "JWXU2zxdAmXy",
        "outputId": "1a5c5d7c-f3ed-4466-e3dd-7d0e621b464f"
      },
      "source": [
        "\r\n",
        "\r\n",
        "c = np.vstack((a,a))\r\n",
        "print(c)\r\n",
        "d = np.hstack((a, a))\r\n",
        "print(d)"
      ],
      "execution_count": 79,
      "outputs": [
        {
          "output_type": "stream",
          "text": [
            "[[7 3]\n",
            " [2 5]\n",
            " [6 8]\n",
            " [9 0]\n",
            " [7 3]\n",
            " [2 5]\n",
            " [6 8]\n",
            " [9 0]]\n",
            "[[7 3 7 3]\n",
            " [2 5 2 5]\n",
            " [6 8 6 8]\n",
            " [9 0 9 0]]\n"
          ],
          "name": "stdout"
        }
      ]
    },
    {
      "cell_type": "code",
      "metadata": {
        "colab": {
          "base_uri": "https://localhost:8080/"
        },
        "id": "COe7_Jz1DHBA",
        "outputId": "4c9d133c-bcd5-401b-f130-e27d363badde"
      },
      "source": [
        "lst1 = [1, 2, 3, 4]\r\n",
        "lst2 = lst1\r\n",
        "\r\n",
        "lst2[1] = 10\r\n",
        "print(lst1)"
      ],
      "execution_count": 80,
      "outputs": [
        {
          "output_type": "stream",
          "text": [
            "[1, 10, 3, 4]\n"
          ],
          "name": "stdout"
        }
      ]
    },
    {
      "cell_type": "code",
      "metadata": {
        "colab": {
          "base_uri": "https://localhost:8080/"
        },
        "id": "6PehEW3rDbMJ",
        "outputId": "d5c926a9-1ae3-46a3-96b3-80afe45ee240"
      },
      "source": [
        "a = np.arange(10)\r\n",
        "b = a\r\n",
        "\r\n",
        "print(b is a)\r\n",
        "c = a.copy()\r\n",
        "print(c is a)"
      ],
      "execution_count": 81,
      "outputs": [
        {
          "output_type": "stream",
          "text": [
            "True\n",
            "False\n"
          ],
          "name": "stdout"
        }
      ]
    },
    {
      "cell_type": "code",
      "metadata": {
        "colab": {
          "base_uri": "https://localhost:8080/"
        },
        "id": "BX5F09pcEPEs",
        "outputId": "0815da28-dbd3-476d-a1a2-d03cc956a88e"
      },
      "source": [
        "a = np.random.randint(low=0, high=2, size=1000)\r\n",
        "print(a)\r\n",
        "\r\n",
        "def get_number_of_zeros(array: np.ndarray) -> int:\r\n",
        "  result = 0\r\n",
        "  for element in array.flat:\r\n",
        "    if element == 0:\r\n",
        "      result+=1\r\n",
        "    return result\r\n",
        "\r\n",
        "print(get_number_of_zeros(a))"
      ],
      "execution_count": 87,
      "outputs": [
        {
          "output_type": "stream",
          "text": [
            "[0 0 0 0 1 1 0 1 1 0 0 1 0 0 1 0 0 0 1 0 1 1 0 1 1 1 1 1 1 1 1 1 0 0 0 1 1\n",
            " 1 0 0 0 1 1 1 1 1 0 0 0 0 1 1 1 0 0 1 0 1 1 0 0 0 1 1 1 1 0 1 1 0 0 0 1 1\n",
            " 1 0 1 1 1 0 0 0 1 0 1 1 1 1 0 0 1 1 1 1 1 1 0 1 1 1 1 1 0 1 1 1 1 1 0 0 0\n",
            " 0 1 1 0 1 0 0 0 1 0 1 1 1 0 1 0 1 1 0 0 1 1 1 1 1 1 0 1 0 1 1 0 0 0 1 1 1\n",
            " 0 1 1 1 0 0 1 1 0 0 0 0 0 1 1 0 0 1 0 0 1 1 1 0 0 1 1 0 1 0 0 0 0 1 0 0 1\n",
            " 1 0 0 1 1 0 0 1 1 0 0 0 1 1 1 1 1 1 0 0 0 1 1 0 1 0 0 0 0 0 1 0 1 0 0 0 0\n",
            " 1 0 1 1 1 0 0 1 1 0 0 1 1 0 1 1 1 0 1 1 1 0 1 0 0 0 0 0 0 1 0 1 0 0 1 0 0\n",
            " 0 0 0 1 1 1 0 1 0 1 0 0 0 1 0 0 1 1 1 1 0 0 0 0 1 0 1 1 1 0 0 0 0 1 1 1 1\n",
            " 1 1 0 0 1 1 1 0 0 1 1 1 1 0 1 1 0 1 1 0 1 0 1 1 1 1 1 0 0 1 1 0 0 0 0 1 1\n",
            " 1 1 0 0 1 1 1 1 0 1 0 0 1 1 0 1 0 1 1 1 1 0 0 1 1 0 0 1 0 1 1 0 0 1 1 0 1\n",
            " 1 1 0 0 1 0 1 1 0 0 1 1 0 1 0 1 1 0 0 0 0 1 1 0 0 1 1 1 0 0 1 1 1 1 0 1 1\n",
            " 0 0 0 0 1 0 0 0 0 1 0 0 1 1 1 1 0 0 1 1 1 0 0 0 0 1 0 0 1 0 1 1 1 0 1 0 0\n",
            " 0 0 1 0 0 1 1 1 1 1 0 0 1 0 1 1 0 0 0 0 0 1 1 1 0 1 0 0 0 0 0 0 0 0 1 1 1\n",
            " 1 0 0 1 1 1 0 0 1 1 0 1 1 1 1 1 0 1 0 1 0 1 1 1 0 0 1 1 1 0 1 1 1 1 0 0 0\n",
            " 1 0 0 1 1 0 0 0 1 1 1 0 0 1 0 1 1 1 0 0 0 1 0 0 1 0 1 0 0 1 1 1 0 0 1 0 1\n",
            " 0 1 0 0 1 0 1 1 1 0 0 1 0 0 1 0 1 1 1 0 1 0 0 0 1 0 1 0 1 1 0 0 0 0 1 1 0\n",
            " 0 0 0 0 0 1 1 0 1 0 0 0 1 0 0 0 0 0 1 0 0 0 1 1 1 1 0 0 1 1 1 1 0 1 1 1 0\n",
            " 1 1 0 0 1 1 1 1 1 1 1 1 1 1 0 1 0 1 0 1 0 1 1 1 0 1 1 1 0 1 1 1 1 1 0 0 1\n",
            " 0 1 0 1 1 0 1 0 1 0 0 1 0 1 1 1 0 0 1 0 0 1 1 1 1 1 1 1 0 0 1 0 0 1 1 0 0\n",
            " 0 0 1 1 1 1 0 0 1 0 1 1 0 1 0 0 1 0 1 0 0 1 0 1 1 0 0 0 1 0 1 1 1 0 1 1 0\n",
            " 0 1 1 0 1 1 1 1 1 0 1 0 0 0 1 1 1 0 0 1 0 1 1 1 0 1 0 1 1 0 0 1 0 0 0 1 0\n",
            " 1 1 1 1 1 0 0 1 0 0 0 0 1 0 0 1 0 0 0 0 1 1 1 0 0 0 1 0 0 1 1 1 1 0 1 1 0\n",
            " 1 1 1 0 1 1 1 1 1 1 1 0 1 0 1 1 1 1 1 0 1 1 1 1 0 0 0 1 1 0 1 0 0 1 1 0 0\n",
            " 0 1 1 0 1 1 0 1 1 1 0 0 1 0 1 1 0 0 1 1 0 0 0 0 1 0 1 0 1 1 0 0 1 0 1 0 1\n",
            " 1 0 1 0 1 1 0 0 0 0 1 1 1 0 0 1 0 1 0 0 1 0 1 0 1 1 1 0 0 1 0 1 0 1 0 0 0\n",
            " 1 0 0 0 1 1 1 0 0 0 0 0 0 1 1 1 1 1 1 1 1 1 1 1 0 0 1 1 0 1 1 0 1 1 1 0 1\n",
            " 0 1 0 1 1 0 0 0 1 0 0 0 1 0 0 0 0 1 0 0 0 0 0 1 0 1 1 0 0 0 1 0 0 1 0 0 0\n",
            " 1]\n",
            "1\n"
          ],
          "name": "stdout"
        }
      ]
    },
    {
      "cell_type": "code",
      "metadata": {
        "colab": {
          "base_uri": "https://localhost:8080/",
          "height": 128
        },
        "id": "FexoFsI4GaFZ",
        "outputId": "d475a445-1d68-4d1c-ae78-228dde58f051"
      },
      "source": [
        "\r\n",
        "\r\n",
        "a = np.array([(1, 2, 3), (4, 8, 5)])\r\n",
        "def ndarray.sort(a):\r\n",
        "print(a) \r\n",
        "\r\n"
      ],
      "execution_count": 91,
      "outputs": [
        {
          "output_type": "error",
          "ename": "SyntaxError",
          "evalue": "ignored",
          "traceback": [
            "\u001b[0;36m  File \u001b[0;32m\"<ipython-input-91-a6540e8c57c9>\"\u001b[0;36m, line \u001b[0;32m4\u001b[0m\n\u001b[0;31m    def ndarray.sort(a):\u001b[0m\n\u001b[0m               ^\u001b[0m\n\u001b[0;31mSyntaxError\u001b[0m\u001b[0;31m:\u001b[0m invalid syntax\n"
          ]
        }
      ]
    },
    {
      "cell_type": "code",
      "metadata": {
        "colab": {
          "base_uri": "https://localhost:8080/"
        },
        "id": "I97qprZzKe-m",
        "outputId": "4a953486-ab20-43f4-f691-9389a5800227"
      },
      "source": [
        "a = np.arange(4).reshape(2, -1)\r\n",
        "print(a)\r\n",
        "\r\n",
        "print(np.linalg.det(a))"
      ],
      "execution_count": 94,
      "outputs": [
        {
          "output_type": "stream",
          "text": [
            "[[0 1]\n",
            " [2 3]]\n",
            "-2.0\n"
          ],
          "name": "stdout"
        }
      ]
    },
    {
      "cell_type": "code",
      "metadata": {
        "colab": {
          "base_uri": "https://localhost:8080/"
        },
        "id": "xC0ND6TqPY8b",
        "outputId": "636b5613-ee9a-454d-bcb8-bdd5e8429977"
      },
      "source": [
        "num_rows = np.random.randint(1, 10)\r\n",
        "num_col = np.random.randint(1, 10)\r\n",
        "\r\n",
        "\r\n",
        "array = np.random.randint(0, 10, size = num_rows*num_col)\r\n",
        "array = array.reshape(num_rows,num_col)\r\n",
        "\r\n",
        "temp = array.copy()\r\n",
        "\r\n",
        "print(array.shape)\r\n",
        "\r\n",
        "num_rows_col = num_rows*(num_col)\r\n",
        "for i in range(int(num_rows_col/num_rows)-1):\r\n",
        "  array = np.vstack((array, temp))\r\n",
        "print(array)\r\n",
        "print(array.shape)\r\n",
        "\r\n",
        "temp = array.copy()\r\n",
        "\r\n",
        "for i in range(int(num_rows_col/num_col)-1):\r\n",
        "  array = np.hstack((array, temp))\r\n",
        "print(array)\r\n",
        "print(array.shape)"
      ],
      "execution_count": 107,
      "outputs": [
        {
          "output_type": "stream",
          "text": [
            "(2, 1)\n",
            "[[6]\n",
            " [3]]\n",
            "(2, 1)\n",
            "[[6 6]\n",
            " [3 3]]\n",
            "(2, 2)\n"
          ],
          "name": "stdout"
        }
      ]
    }
  ]
}